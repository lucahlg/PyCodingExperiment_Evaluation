{
 "cells": [
  {
   "cell_type": "code",
   "execution_count": null,
   "id": "62e49b39",
   "metadata": {},
   "outputs": [],
   "source": [
    "%pip install pandas matplotlib"
   ]
  },
  {
   "cell_type": "code",
   "execution_count": null,
   "id": "8435589f",
   "metadata": {},
   "outputs": [],
   "source": [
    "import pandas as pd\n",
    "\n",
    "# Load the dataset\n",
    "file_path = 'wiki4he/wiki4HE.csv'\n",
    "data = pd.read_csv(file_path)\n",
    "\n",
    "# Display the first few rows of the dataset\n",
    "data.head()"
   ]
  },
  {
   "cell_type": "code",
   "execution_count": null,
   "id": "3388c4f2",
   "metadata": {},
   "outputs": [],
   "source": [
    "# Load the dataset with the correct delimiter\n",
    "data = pd.read_csv(file_path, delimiter=';')\n",
    "\n",
    "# Display the first few rows of the dataset\n",
    "data.head()"
   ]
  },
  {
   "cell_type": "code",
   "execution_count": null,
   "id": "8897884e",
   "metadata": {},
   "outputs": [],
   "source": [
    "import matplotlib.pyplot as plt\n",
    "\n",
    "# Summary statistics for age and years of experience\n",
    "age_summary = data['AGE'].describe()\n",
    "years_exp_summary = data['YEARSEXP'].describe()\n",
    "\n",
    "# Count of respondents by domain\n",
    "domain_counts = data['DOMAIN'].value_counts()\n",
    "\n",
    "# Count of respondents by job position\n",
    "job_position_counts = data['UOC_POSITION'].value_counts()\n",
    "\n",
    "# Plotting the demographic information\n",
    "fig, axs = plt.subplots(2, 2, figsize=(15, 10))\n",
    "\n",
    "# Age distribution\n",
    "axs[0, 0].hist(data['AGE'], bins=10, color='skyblue', edgecolor='black')\n",
    "axs[0, 0].set_title('Age Distribution')\n",
    "axs[0, 0].set_xlabel('Age')\n",
    "axs[0, 0].set_ylabel('Frequency')\n",
    "\n",
    "# Years of experience distribution\n",
    "axs[0, 1].hist(data['YEARSEXP'], bins=10, color='lightgreen', edgecolor='black')\n",
    "axs[0, 1].set_title('Years of Experience Distribution')\n",
    "axs[0, 1].set_xlabel('Years of Experience')\n",
    "axs[0, 1].set_ylabel('Frequency')\n",
    "\n",
    "# Domain distribution\n",
    "domain_counts.plot(kind='bar', ax=axs[1, 0], color='salmon', edgecolor='black')\n",
    "axs[1, 0].set_title('Domain Distribution')\n",
    "axs[1, 0].set_xlabel('Domain')\n",
    "axs[1, 0].set_ylabel('Frequency')\n",
    "\n",
    "# Job position distribution\n",
    "job_position_counts.plot(kind='bar', ax=axs[1, 1], color='lightcoral', edgecolor='black')\n",
    "axs[1, 1].set_title('Job Position Distribution')\n",
    "axs[1, 1].set_xlabel('Job Position')\n",
    "axs[1, 1].set_ylabel('Frequency')\n",
    "\n",
    "plt.tight_layout()\n",
    "plt.show()\n",
    "\n",
    "age_summary, years_exp_summary, domain_counts, job_position_counts"
   ]
  },
  {
   "cell_type": "code",
   "execution_count": null,
   "id": "7b9b9832",
   "metadata": {},
   "outputs": [],
   "source": [
    "# Identify columns corresponding to survey questions\n",
    "survey_columns = data.columns[10:]  # Survey questions start from the 11th column\n",
    "\n",
    "# Calculate the proportion of extreme responses (1 or 5) for each question\n",
    "extreme_responses = {}\n",
    "for col in survey_columns:\n",
    "    extreme_count = data[col].value_counts().get(1, 0) + data[col].value_counts().get(5, 0)\n",
    "    extreme_proportion = extreme_count / len(data)\n",
    "    extreme_responses[col] = extreme_proportion\n",
    "\n",
    "# Sort the questions by the proportion of extreme responses\n",
    "sorted_extreme_responses = sorted(extreme_responses.items(), key=lambda x: x[1], reverse=True)\n",
    "sorted_extreme_responses"
   ]
  },
  {
   "cell_type": "code",
   "execution_count": null,
   "id": "7c655b42",
   "metadata": {},
   "outputs": [],
   "source": [
    "# List all column names to identify relevant columns\n",
    "data.columns.tolist()"
   ]
  },
  {
   "cell_type": "code",
   "execution_count": null,
   "id": "9041fb46",
   "metadata": {},
   "outputs": [],
   "source": [
    "# Calculate the average response for consulting Wikipedia (Use1) and citing Wikipedia (Use2) by domain\n",
    "consult_wikipedia_by_domain = data.groupby('DOMAIN')['Use1'].mean()\n",
    "cite_wikipedia_by_domain = data.groupby('DOMAIN')['Use2'].mean()\n",
    "\n",
    "consult_wikipedia_by_domain, cite_wikipedia_by_domain"
   ]
  },
  {
   "cell_type": "code",
   "execution_count": null,
   "id": "97014b24",
   "metadata": {},
   "outputs": [],
   "source": [
    "# Check unique values in Use1 and Use2 columns\n",
    "use1_unique_values = data['Use1'].unique()\n",
    "use2_unique_values = data['Use2'].unique()\n",
    "\n",
    "use1_unique_values, use2_unique_values"
   ]
  },
  {
   "cell_type": "code",
   "execution_count": null,
   "id": "a6c0ceb1",
   "metadata": {},
   "outputs": [],
   "source": [
    "import numpy as np\n",
    "\n",
    "# Replace '?' with NaN\n",
    "data['Use1'] = data['Use1'].replace('?', np.nan).astype(float)\n",
    "data['Use2'] = data['Use2'].replace('?', np.nan).astype(float)\n",
    "\n",
    "# Calculate the average response for consulting Wikipedia (Use1) and citing Wikipedia (Use2) by domain\n",
    "consult_wikipedia_by_domain = data.groupby('DOMAIN')['Use1'].mean()\n",
    "cite_wikipedia_by_domain = data.groupby('DOMAIN')['Use2'].mean()\n",
    "\n",
    "consult_wikipedia_by_domain, cite_wikipedia_by_domain"
   ]
  },
  {
   "cell_type": "code",
   "execution_count": null,
   "id": "8b7d81a1",
   "metadata": {},
   "outputs": [],
   "source": [
    "fig, axs = plt.subplots(1, 2, figsize=(15, 5))\n",
    "\n",
    "# Plotting the average response for consulting Wikipedia by domain\n",
    "consult_wikipedia_by_domain.plot(kind='bar', ax=axs[0], color='skyblue', edgecolor='black')\n",
    "axs[0].set_title('Average Response for Consulting Wikipedia by Domain')\n",
    "axs[0].set_xlabel('Domain')\n",
    "axs[0].set_ylabel('Average Response')\n",
    "axs[0].set_ylim(0, 5)\n",
    "\n",
    "# Plotting the average response for citing Wikipedia by domain\n",
    "cite_wikipedia_by_domain.plot(kind='bar', ax=axs[1], color='lightgreen', edgecolor='black')\n",
    "axs[1].set_title('Average Response for Citing Wikipedia by Domain')\n",
    "axs[1].set_xlabel('Domain')\n",
    "axs[1].set_ylabel('Average Response')\n",
    "axs[1].set_ylim(0, 5)\n",
    "\n",
    "plt.tight_layout()\n",
    "plt.show()"
   ]
  }
 ],
 "metadata": {},
 "nbformat": 4,
 "nbformat_minor": 5
}
