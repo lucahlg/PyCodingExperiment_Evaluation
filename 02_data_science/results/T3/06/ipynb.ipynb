{
 "cells": [
  {
   "cell_type": "code",
   "execution_count": null,
   "id": "27d7c23a",
   "metadata": {},
   "outputs": [],
   "source": [
    "import pandas as pd\n",
    "import zipfile\n",
    "import requests\n",
    "import os\n",
    "\n",
    "# Download the dataset\n",
    "url = \"https://archive.ics.uci.edu/static/public/292/wholesale+customers.zip\"\n",
    "response = requests.get(url)\n",
    "\n",
    "# Save the zip file\n",
    "zip_file_path = \"wholesale_customers.zip\"\n",
    "with open(zip_file_path, \"wb\") as f:\n",
    "    f.write(response.content)\n",
    "\n",
    "# Extract the zip file\n",
    "with zipfile.ZipFile(zip_file_path, 'r') as zip_ref:\n",
    "    zip_ref.extractall(\".\")\n",
    "\n",
    "# Load the dataset into a DataFrame\n",
    "data = pd.read_csv(\"Wholesale customers data.csv\")\n",
    "\n",
    "# Drop the Region column\n",
    "data = data.drop(columns=[\"Region\"])\n",
    "data.head()"
   ]
  },
  {
   "cell_type": "code",
   "execution_count": null,
   "id": "c1b0cdf9",
   "metadata": {},
   "outputs": [],
   "source": [
    "# Filter the data for clients that are restaurants, hotels, and caf�s (Foodservice)\n",
    "filtered_data = data[data[\"Channel\"] == 2].drop(columns=[\"Channel\"])\n",
    "filtered_data.head()"
   ]
  },
  {
   "cell_type": "code",
   "execution_count": null,
   "id": "6d4397e8",
   "metadata": {},
   "outputs": [],
   "source": [
    "# Normalize the data by computing the proportionate spending per product category\n",
    "normalized_data = filtered_data.div(filtered_data.sum(axis=1), axis=0)\n",
    "normalized_data.head()"
   ]
  },
  {
   "cell_type": "code",
   "execution_count": null,
   "id": "69f26521",
   "metadata": {},
   "outputs": [],
   "source": [
    "from sklearn.preprocessing import StandardScaler\n",
    "\n",
    "# Standardize the data\n",
    "scaler = StandardScaler()\n",
    "standardized_data = scaler.fit_transform(normalized_data)\n",
    "standardized_data_df = pd.DataFrame(standardized_data, columns=normalized_data.columns)\n",
    "standardized_data_df.head()"
   ]
  },
  {
   "cell_type": "code",
   "execution_count": null,
   "id": "3ed6c137",
   "metadata": {},
   "outputs": [],
   "source": [
    "%pip install scikit-learn"
   ]
  },
  {
   "cell_type": "code",
   "execution_count": null,
   "id": "bb156485",
   "metadata": {},
   "outputs": [],
   "source": [
    "from sklearn.preprocessing import StandardScaler\n",
    "\n",
    "# Standardize the data\n",
    "scaler = StandardScaler()\n",
    "standardized_data = scaler.fit_transform(normalized_data)\n",
    "standardized_data_df = pd.DataFrame(standardized_data, columns=normalized_data.columns)\n",
    "standardized_data_df.head()"
   ]
  },
  {
   "cell_type": "code",
   "execution_count": null,
   "id": "6ab2f6dc",
   "metadata": {},
   "outputs": [],
   "source": [
    "from sklearn.cluster import KMeans\n",
    "\n",
    "# Use K-means to cluster the customers into K = 4 groups\n",
    "kmeans = KMeans(n_clusters=4, random_state=42)\n",
    "kmeans.fit(standardized_data)\n",
    "\n",
    "# Add the cluster labels to the standardized data\n",
    "standardized_data_df['Cluster'] = kmeans.labels_\n",
    "standardized_data_df.head()"
   ]
  },
  {
   "cell_type": "code",
   "execution_count": null,
   "id": "94832237",
   "metadata": {},
   "outputs": [],
   "source": [
    "import matplotlib.pyplot as plt\n",
    "import seaborn as sns\n",
    "\n",
    "# Calculate the centroids\n",
    "centroids = kmeans.cluster_centers_\n",
    "\n",
    "# Create a DataFrame for centroids\n",
    "centroids_df = pd.DataFrame(centroids, columns=normalized_data.columns)\n",
    "\n",
    "# Plot the centroids\n",
    "plt.figure(figsize=(10, 6))\n",
    "sns.barplot(data=centroids_df)\n",
    "plt.title('Cluster Centroids')\n",
    "plt.xlabel('Product Categories')\n",
    "plt.ylabel('Standardized Spending')\n",
    "plt.xticks(rotation=45)\n",
    "plt.legend(title='Cluster', labels=[f'Cluster {i}' for i in range(centroids_df.shape[0])])\n",
    "plt.show()"
   ]
  },
  {
   "cell_type": "code",
   "execution_count": null,
   "id": "ce0c0cdd",
   "metadata": {},
   "outputs": [],
   "source": [
    "# Create descriptions based on the cluster centroids\n",
    "descriptions = {}\n",
    "\n",
    "for i in range(centroids_df.shape[0]):\n",
    "    descriptions[f'Cluster {i}'] = centroids_df.iloc[i].to_dict()\n",
    "\n",
    "descriptions"
   ]
  }
 ],
 "metadata": {},
 "nbformat": 4,
 "nbformat_minor": 5
}
