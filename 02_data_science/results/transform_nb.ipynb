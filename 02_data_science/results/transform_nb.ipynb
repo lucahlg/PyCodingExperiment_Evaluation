{
 "cells": [
  {
   "cell_type": "code",
   "execution_count": 5,
   "metadata": {},
   "outputs": [
    {
     "name": "stdout",
     "output_type": "stream",
     "text": [
      "Processing ./GPT4o\\01\\ipynb.txt...\n",
      "Created ./GPT4o\\01\\ipynb.ipynb\n"
     ]
    }
   ],
   "source": [
    "import os\n",
    "import nbformat\n",
    "from nbformat.v4 import new_notebook, new_code_cell\n",
    "\n",
    "def extract_cells_from_txt(file_path):\n",
    "    \"\"\"\n",
    "    Extract code cells from a .txt file. \n",
    "    Content between 'EXECUTE' and 'STDOUT/STDERR' is extracted.\n",
    "    \"\"\"\n",
    "    cells = []\n",
    "    with open(file_path, 'r') as file:\n",
    "        lines = file.readlines()\n",
    "    \n",
    "    inside_cell = False\n",
    "    cell_content = []\n",
    "    \n",
    "    for line in lines:\n",
    "        if \"EXECUTE\\n\" in line:\n",
    "            inside_cell = True\n",
    "            cell_content = []  # Start a new cell\n",
    "        elif \"STDOUT/STDERR\" in line:\n",
    "            if inside_cell:\n",
    "                cells.append(\"\".join(cell_content).strip())\n",
    "                inside_cell = False\n",
    "        elif inside_cell:\n",
    "            cell_content.append(line)\n",
    "    \n",
    "    return cells\n",
    "\n",
    "def create_notebook_from_cells(cells, output_file):\n",
    "    \"\"\"\n",
    "    Create a Jupyter notebook from a list of cell contents.\n",
    "    \"\"\"\n",
    "    notebook = new_notebook()\n",
    "    notebook.cells = [new_code_cell(cell) for cell in cells]\n",
    "    \n",
    "    with open(output_file, 'w') as f:\n",
    "        nbformat.write(notebook, f)\n",
    "\n",
    "def txt_to_ipynb_in_place(input_dir):\n",
    "    \"\"\"\n",
    "    Convert all .txt files in the input directory and its subdirectories to .ipynb files.\n",
    "    The generated notebooks are saved in the same folder as their corresponding .txt files.\n",
    "    \"\"\"\n",
    "    for root, _, files in os.walk(input_dir):\n",
    "        for file_name in files:\n",
    "            if file_name.endswith('.txt'):\n",
    "                input_file = os.path.join(root, file_name)\n",
    "                output_file = os.path.join(root, file_name.replace('.txt', '.ipynb'))\n",
    "                \n",
    "                print(f\"Processing {input_file}...\")\n",
    "                cells = extract_cells_from_txt(input_file)\n",
    "                create_notebook_from_cells(cells, output_file)\n",
    "                print(f\"Created {output_file}\")\n",
    "\n",
    "if __name__ == \"__main__\":\n",
    "    input_dir = \"./\"  # Replace with your root input directory\n",
    "    \n",
    "    txt_to_ipynb_in_place(input_dir)\n"
   ]
  }
 ],
 "metadata": {
  "kernelspec": {
   "display_name": "Python 3",
   "language": "python",
   "name": "python3"
  },
  "language_info": {
   "codemirror_mode": {
    "name": "ipython",
    "version": 3
   },
   "file_extension": ".py",
   "mimetype": "text/x-python",
   "name": "python",
   "nbconvert_exporter": "python",
   "pygments_lexer": "ipython3",
   "version": "3.12.7"
  }
 },
 "nbformat": 4,
 "nbformat_minor": 2
}
