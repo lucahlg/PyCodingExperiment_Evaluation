{
 "cells": [
  {
   "cell_type": "code",
   "execution_count": null,
   "id": "91999228",
   "metadata": {},
   "outputs": [],
   "source": [
    "import pandas as pd\n",
    "\n",
    "# Load the dataset\n",
    "file_path = './wholesale_customers/Wholesale customers data.csv'\n",
    "data = pd.read_csv(file_path)\n",
    "\n",
    "# Drop the Region column\n",
    "data = data.drop(columns=['Region'])\n",
    "\n",
    "# Display the first few rows of the modified dataset\n",
    "data.head()"
   ]
  },
  {
   "cell_type": "code",
   "execution_count": null,
   "id": "a0ae28f3",
   "metadata": {},
   "outputs": [],
   "source": [
    "# Filter the data for clients that are restaurants, hotels, and caf�s (Channel 1 and 2)\n",
    "filtered_data = data[data['Channel'].isin([1, 2])]\n",
    "\n",
    "# Display the first few rows of the filtered dataset\n",
    "filtered_data.head()"
   ]
  },
  {
   "cell_type": "code",
   "execution_count": null,
   "id": "27ce4ccd",
   "metadata": {},
   "outputs": [],
   "source": [
    "# Normalize the data by computing the proportionate spending per product category\n",
    "normalized_data = filtered_data.copy()\n",
    "normalized_data.iloc[:, 1:] = normalized_data.iloc[:, 1:].div(normalized_data.iloc[:, 1:].sum(axis=1), axis=0)\n",
    "\n",
    "# Display the first few rows of the normalized dataset\n",
    "normalized_data.head()"
   ]
  },
  {
   "cell_type": "code",
   "execution_count": null,
   "id": "8c471317",
   "metadata": {},
   "outputs": [],
   "source": [
    "from sklearn.preprocessing import StandardScaler\n",
    "\n",
    "# Standardize the data\n",
    "scaler = StandardScaler()\n",
    "standardized_data = normalized_data.copy()\n",
    "standardized_data.iloc[:, 1:] = scaler.fit_transform(standardized_data.iloc[:, 1:])\n",
    "\n",
    "# Display the first few rows of the standardized dataset\n",
    "standardized_data.head()"
   ]
  },
  {
   "cell_type": "code",
   "execution_count": null,
   "id": "204d96cb",
   "metadata": {},
   "outputs": [],
   "source": [
    "%pip install scikit-learn"
   ]
  },
  {
   "cell_type": "code",
   "execution_count": null,
   "id": "50eedd86",
   "metadata": {},
   "outputs": [],
   "source": [
    "from sklearn.preprocessing import StandardScaler\n",
    "\n",
    "# Standardize the data\n",
    "scaler = StandardScaler()\n",
    "standardized_data = normalized_data.copy()\n",
    "standardized_data.iloc[:, 1:] = scaler.fit_transform(standardized_data.iloc[:, 1:])\n",
    "\n",
    "# Display the first few rows of the standardized dataset\n",
    "standardized_data.head()"
   ]
  },
  {
   "cell_type": "code",
   "execution_count": null,
   "id": "bd7dc06f",
   "metadata": {},
   "outputs": [],
   "source": [
    "from sklearn.cluster import KMeans\n",
    "\n",
    "# Use K-means to cluster the customers into K = 4 groups\n",
    "kmeans = KMeans(n_clusters=4, random_state=42)\n",
    "standardized_data['Cluster'] = kmeans.fit_predict(standardized_data.iloc[:, 1:])\n",
    "\n",
    "# Display the first few rows of the dataset with cluster labels\n",
    "standardized_data.head()"
   ]
  },
  {
   "cell_type": "code",
   "execution_count": null,
   "id": "29e2412c",
   "metadata": {},
   "outputs": [],
   "source": [
    "import matplotlib.pyplot as plt\n",
    "import numpy as np\n",
    "\n",
    "# Calculate the centroids\n",
    "centroids = kmeans.cluster_centers_\n",
    "\n",
    "# Create a DataFrame for centroids\n",
    "centroids_df = pd.DataFrame(centroids, columns=standardized_data.columns[1:-1])\n",
    "\n",
    "# Plot the centroids\n",
    "plt.figure(figsize=(10, 6))\n",
    "for i in range(centroids_df.shape[0]):\n",
    "    plt.plot(centroids_df.columns, centroids_df.iloc[i], marker='o', label=f'Cluster {i}')\n",
    "plt.title('Cluster Centroids')\n",
    "plt.xlabel('Product Categories')\n",
    "plt.ylabel('Standardized Spending')\n",
    "plt.legend()\n",
    "plt.grid()\n",
    "plt.show()"
   ]
  },
  {
   "cell_type": "code",
   "execution_count": null,
   "id": "4a78bb50",
   "metadata": {},
   "outputs": [],
   "source": [
    "# Create a summary description for each cluster based on the centroids\n",
    "cluster_descriptions = {}\n",
    "\n",
    "for i in range(centroids_df.shape[0]):\n",
    "    cluster_descriptions[i] = centroids_df.iloc[i].to_dict()\n",
    "\n",
    "cluster_descriptions"
   ]
  }
 ],
 "metadata": {},
 "nbformat": 4,
 "nbformat_minor": 5
}
