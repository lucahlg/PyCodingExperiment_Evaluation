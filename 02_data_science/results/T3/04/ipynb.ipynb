{
 "cells": [
  {
   "cell_type": "code",
   "execution_count": null,
   "id": "9087cd90",
   "metadata": {},
   "outputs": [],
   "source": [
    "%pip install pandas\n",
    "import pandas as pd\n",
    "\n",
    "# Load the dataset\n",
    "file_path = 'wholesale_customers/Wholesale customers data.csv'\n",
    "data = pd.read_csv(file_path)\n",
    "\n",
    "# Drop the Region column\n",
    "data = data.drop(columns=['Region'])\n",
    "\n",
    "# Display the first few rows of the dataset to verify\n",
    "data.head()"
   ]
  },
  {
   "cell_type": "code",
   "execution_count": null,
   "id": "4d520a7c",
   "metadata": {},
   "outputs": [],
   "source": [
    "# Filter the data for clients that are restaurants, hotels, and caf�s\n",
    "filtered_data = data[data['Channel'] == 1]\n",
    "\n",
    "# Drop the Channel column as it is no longer needed\n",
    "filtered_data = filtered_data.drop(columns=['Channel'])\n",
    "\n",
    "# Display the first few rows of the filtered dataset to verify\n",
    "filtered_data.head()"
   ]
  },
  {
   "cell_type": "code",
   "execution_count": null,
   "id": "7a8deab7",
   "metadata": {},
   "outputs": [],
   "source": [
    "# Normalize the data by computing the proportionate spending per product category\n",
    "normalized_data = filtered_data.div(filtered_data.sum(axis=1), axis=0)\n",
    "\n",
    "# Display the first few rows of the normalized dataset to verify\n",
    "normalized_data.head()"
   ]
  },
  {
   "cell_type": "code",
   "execution_count": null,
   "id": "098b452a",
   "metadata": {},
   "outputs": [],
   "source": [
    "from sklearn.preprocessing import StandardScaler\n",
    "\n",
    "# Standardize the data\n",
    "scaler = StandardScaler()\n",
    "standardized_data = scaler.fit_transform(normalized_data)\n",
    "\n",
    "# Convert the standardized data back to a DataFrame\n",
    "standardized_data = pd.DataFrame(standardized_data, columns=normalized_data.columns)\n",
    "\n",
    "# Display the first few rows of the standardized dataset to verify\n",
    "standardized_data.head()"
   ]
  },
  {
   "cell_type": "code",
   "execution_count": null,
   "id": "1d58fba9",
   "metadata": {},
   "outputs": [],
   "source": [
    "%pip install scikit-learn"
   ]
  },
  {
   "cell_type": "code",
   "execution_count": null,
   "id": "d315b24c",
   "metadata": {},
   "outputs": [],
   "source": [
    "from sklearn.preprocessing import StandardScaler\n",
    "\n",
    "# Standardize the data\n",
    "scaler = StandardScaler()\n",
    "standardized_data = scaler.fit_transform(normalized_data)\n",
    "\n",
    "# Convert the standardized data back to a DataFrame\n",
    "standardized_data = pd.DataFrame(standardized_data, columns=normalized_data.columns)\n",
    "\n",
    "# Display the first few rows of the standardized dataset to verify\n",
    "standardized_data.head()"
   ]
  },
  {
   "cell_type": "code",
   "execution_count": null,
   "id": "be9efa82",
   "metadata": {},
   "outputs": [],
   "source": [
    "from sklearn.cluster import KMeans\n",
    "\n",
    "# Use K-means to cluster the data into 4 groups\n",
    "kmeans = KMeans(n_clusters=4, random_state=42)\n",
    "kmeans.fit(standardized_data)\n",
    "\n",
    "# Get the cluster labels\n",
    "cluster_labels = kmeans.labels_\n",
    "\n",
    "# Add the cluster labels to the standardized data\n",
    "standardized_data['Cluster'] = cluster_labels\n",
    "\n",
    "# Display the first few rows of the dataset with cluster labels to verify\n",
    "standardized_data.head()"
   ]
  },
  {
   "cell_type": "code",
   "execution_count": null,
   "id": "85556fb8",
   "metadata": {},
   "outputs": [],
   "source": [
    "import matplotlib.pyplot as plt\n",
    "import seaborn as sns\n",
    "\n",
    "# Get the cluster centroids\n",
    "centroids = kmeans.cluster_centers_\n",
    "\n",
    "# Convert the centroids to a DataFrame\n",
    "centroids_df = pd.DataFrame(centroids, columns=standardized_data.columns[:-1])\n",
    "\n",
    "# Print the cluster centroids\n",
    "print(centroids_df)\n",
    "\n",
    "# Visualize the cluster centroids\n",
    "plt.figure(figsize=(10, 6))\n",
    "sns.heatmap(centroids_df, annot=True, cmap='coolwarm', xticklabels=standardized_data.columns[:-1])\n",
    "plt.title('Cluster Centroids')\n",
    "plt.show()"
   ]
  }
 ],
 "metadata": {},
 "nbformat": 4,
 "nbformat_minor": 5
}
