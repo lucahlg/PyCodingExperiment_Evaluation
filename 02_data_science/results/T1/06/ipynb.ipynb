{
 "cells": [
  {
   "cell_type": "code",
   "execution_count": null,
   "id": "fc4b7f43",
   "metadata": {},
   "outputs": [],
   "source": [
    "%pip install pandas matplotlib seaborn"
   ]
  },
  {
   "cell_type": "code",
   "execution_count": null,
   "id": "d26ea0b5",
   "metadata": {},
   "outputs": [],
   "source": [
    "import pandas as pd\n",
    "\n",
    "# Load the data\n",
    "data_path = 'wiki4he_data/wiki4HE.csv'\n",
    "data = pd.read_csv(data_path)\n",
    "\n",
    "# Display the first few rows of the dataset\n",
    "data.head()"
   ]
  },
  {
   "cell_type": "code",
   "execution_count": null,
   "id": "343cfee2",
   "metadata": {},
   "outputs": [],
   "source": [
    "# Load the data with the correct delimiter\n",
    "data = pd.read_csv(data_path, delimiter=';')\n",
    "\n",
    "# Display the first few rows of the dataset\n",
    "data.head()"
   ]
  },
  {
   "cell_type": "code",
   "execution_count": null,
   "id": "0ad3f579",
   "metadata": {},
   "outputs": [],
   "source": [
    "# Summary of demographics\n",
    "demographics_summary = {\n",
    "    'Age': data['AGE'].describe(),\n",
    "    'Years of Experience': data['YEARSEXP'].describe(),\n",
    "    'Domain': data['DOMAIN'].value_counts(),\n",
    "    'Job Position': data['UOC_POSITION'].value_counts()\n",
    "}\n",
    "\n",
    "demographics_summary"
   ]
  },
  {
   "cell_type": "code",
   "execution_count": null,
   "id": "dc5e9dcd",
   "metadata": {},
   "outputs": [],
   "source": [
    "import matplotlib.pyplot as plt\n",
    "import seaborn as sns\n",
    "\n",
    "# Set the style for the plots\n",
    "sns.set(style=\"whitegrid\")\n",
    "\n",
    "# Create a figure with subplots\n",
    "fig, axes = plt.subplots(2, 2, figsize=(14, 10))\n",
    "\n",
    "# Histogram for Age\n",
    "sns.histplot(data['AGE'], bins=20, ax=axes[0, 0], kde=True)\n",
    "axes[0, 0].set_title('Age Distribution')\n",
    "axes[0, 0].set_xlabel('Age')\n",
    "axes[0, 0].set_ylabel('Frequency')\n",
    "\n",
    "# Bar chart for Domain\n",
    "sns.barplot(x=demographics_summary['Domain'].index, y=demographics_summary['Domain'].values, ax=axes[0, 1])\n",
    "axes[0, 1].set_title('Number of Respondents by Domain')\n",
    "axes[0, 1].set_xlabel('Domain')\n",
    "axes[0, 1].set_ylabel('Number of Respondents')\n",
    "\n",
    "# Bar chart for Job Position\n",
    "sns.barplot(x=demographics_summary['Job Position'].index, y=demographics_summary['Job Position'].values, ax=axes[1, 0])\n",
    "axes[1, 0].set_title('Number of Respondents by Job Position')\n",
    "axes[1, 0].set_xlabel('Job Position')\n",
    "axes[1, 0].set_ylabel('Number of Respondents')\n",
    "\n",
    "# Hide the last subplot (not used)\n",
    "axes[1, 1].axis('off')\n",
    "\n",
    "# Adjust layout\n",
    "plt.tight_layout()\n",
    "plt.show()"
   ]
  },
  {
   "cell_type": "code",
   "execution_count": null,
   "id": "61f8c2eb",
   "metadata": {},
   "outputs": [],
   "source": [
    "# Display the columns to identify survey questions\n",
    "data.columns.tolist()"
   ]
  },
  {
   "cell_type": "code",
   "execution_count": null,
   "id": "4c6789e9",
   "metadata": {},
   "outputs": [],
   "source": [
    "# Define a function to calculate extreme response percentages\n",
    "def extreme_response_percentage(column):\n",
    "    return (column.isin([1, 5]).sum() / column.count()) * 100\n",
    "\n",
    "# Calculate extreme response percentages for relevant columns\n",
    "extreme_responses = {\n",
    "    col: extreme_response_percentage(data[col]) for col in data.columns if col.startswith(('PU', 'PEU', 'ENJ', 'Qu', 'Vis', 'Im', 'SA', 'Use', 'Pf', 'JR', 'BI', 'Inc', 'Exp'))\n",
    "}\n",
    "\n",
    "# Convert to DataFrame for easier visualization\n",
    "extreme_responses_df = pd.DataFrame(extreme_responses.items(), columns=['Question', 'Extreme Response Percentage'])\n",
    "extreme_responses_df = extreme_responses_df.sort_values(by='Extreme Response Percentage', ascending=False)\n",
    "\n",
    "extreme_responses_df"
   ]
  },
  {
   "cell_type": "code",
   "execution_count": null,
   "id": "03806b9a",
   "metadata": {},
   "outputs": [],
   "source": [
    "# Check the columns related to Wikipedia usage\n",
    "wikipedia_usage_columns = ['Use1', 'Use2', 'Use3', 'Use4', 'Use5']\n",
    "domain_usage = data.groupby('DOMAIN')[wikipedia_usage_columns].mean()\n",
    "\n",
    "# Calculate the average usage of Wikipedia for each domain\n",
    "domain_usage['Average Usage'] = domain_usage.mean(axis=1)\n",
    "\n",
    "# Sort by average usage\n",
    "domain_usage_sorted = domain_usage[['Average Usage']].sort_values(by='Average Usage', ascending=False)\n",
    "\n",
    "domain_usage_sorted"
   ]
  },
  {
   "cell_type": "code",
   "execution_count": null,
   "id": "4089834d",
   "metadata": {},
   "outputs": [],
   "source": [
    "# Check the data types of the Wikipedia usage columns\n",
    "data[wikipedia_usage_columns].dtypes"
   ]
  },
  {
   "cell_type": "code",
   "execution_count": null,
   "id": "bca9f8ee",
   "metadata": {},
   "outputs": [],
   "source": [
    "# Convert the Wikipedia usage columns to numeric, coercing errors to NaN\n",
    "data[wikipedia_usage_columns] = data[wikipedia_usage_columns].apply(pd.to_numeric, errors='coerce')\n",
    "\n",
    "# Now, calculate the average usage of Wikipedia for each domain again\n",
    "domain_usage = data.groupby('DOMAIN')[wikipedia_usage_columns].mean()\n",
    "\n",
    "# Calculate the average usage across the usage columns\n",
    "domain_usage['Average Usage'] = domain_usage.mean(axis=1)\n",
    "\n",
    "# Sort by average usage\n",
    "domain_usage_sorted = domain_usage[['Average Usage']].sort_values(by='Average Usage', ascending=False)\n",
    "\n",
    "domain_usage_sorted"
   ]
  }
 ],
 "metadata": {},
 "nbformat": 4,
 "nbformat_minor": 5
}
