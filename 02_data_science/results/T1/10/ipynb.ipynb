{
 "cells": [
  {
   "cell_type": "code",
   "execution_count": null,
   "id": "b5344390",
   "metadata": {},
   "outputs": [],
   "source": [
    "import pandas as pd\n",
    "\n",
    "# Load the data\n",
    "data_path = 'wiki4he_data/wiki4HE.csv'\n",
    "data = pd.read_csv(data_path)\n",
    "\n",
    "# Display the first few rows of the dataset\n",
    "data.head()"
   ]
  },
  {
   "cell_type": "code",
   "execution_count": null,
   "id": "8f49379a",
   "metadata": {},
   "outputs": [],
   "source": [
    "# Load the data with the correct delimiter\n",
    "data = pd.read_csv(data_path, delimiter=';')\n",
    "\n",
    "# Display the first few rows of the dataset\n",
    "data.head()"
   ]
  },
  {
   "cell_type": "code",
   "execution_count": null,
   "id": "bc32310d",
   "metadata": {},
   "outputs": [],
   "source": [
    "import matplotlib.pyplot as plt\n",
    "import seaborn as sns\n",
    "\n",
    "# Set the style for the plots\n",
    "sns.set(style=\"whitegrid\")\n",
    "\n",
    "# Overview of demographics\n",
    "demographics_summary = {\n",
    "    'Age': data['AGE'].describe(),\n",
    "    'Years of Experience': data['YEARSEXP'].describe(),\n",
    "    'Domain': data['DOMAIN'].value_counts(),\n",
    "    'Job Position': data['UOC_POSITION'].value_counts()\n",
    "}\n",
    "\n",
    "# Plotting Age distribution\n",
    "plt.figure(figsize=(12, 6))\n",
    "sns.histplot(data['AGE'], bins=10, kde=True)\n",
    "plt.title('Age Distribution of Respondents')\n",
    "plt.xlabel('Age')\n",
    "plt.ylabel('Frequency')\n",
    "plt.grid()\n",
    "plt.show()\n",
    "\n",
    "# Plotting Years of Experience distribution\n",
    "plt.figure(figsize=(12, 6))\n",
    "sns.histplot(data['YEARSEXP'], bins=10, kde=True)\n",
    "plt.title('Years of Experience Distribution of Respondents')\n",
    "plt.xlabel('Years of Experience')\n",
    "plt.ylabel('Frequency')\n",
    "plt.grid()\n",
    "plt.show()\n",
    "\n",
    "demographics_summary"
   ]
  },
  {
   "cell_type": "code",
   "execution_count": null,
   "id": "8d2e1328",
   "metadata": {},
   "outputs": [],
   "source": [
    "# Identify the columns that correspond to survey questions\n",
    "survey_columns = data.columns[10:]  # Assuming the first 10 columns are demographic data\n",
    "\n",
    "# Count extreme responses (1 and 5) for each question\n",
    "extreme_responses = data[survey_columns].apply(lambda x: (x == 1).sum() + (x == 5).sum())\n",
    "\n",
    "# Filter questions with a majority of extreme responses (more than 50%)\n",
    "majority_extreme_responses = extreme_responses[extreme_responses > (len(data) / 2)]\n",
    "\n",
    "majority_extreme_responses"
   ]
  },
  {
   "cell_type": "code",
   "execution_count": null,
   "id": "6b5c9dfd",
   "metadata": {},
   "outputs": [],
   "source": [
    "# Check the relevant columns for Wikipedia usage and domain\n",
    "# Assuming 'Use1' to 'Use5' columns represent the usage of Wikipedia in their field\n",
    "wikipedia_usage_columns = ['Use1', 'Use2', 'Use3', 'Use4', 'Use5']\n",
    "domain_column = 'DOMAIN'\n",
    "\n",
    "# Calculate the average Wikipedia usage per domain\n",
    "wikipedia_usage_per_domain = data.groupby(domain_column)[wikipedia_usage_columns].mean()\n",
    "\n",
    "# Calculate the average citation of Wikipedia in academic papers (assuming 'Pf1', 'Pf2', 'Pf3' are relevant)\n",
    "citation_columns = ['Pf1', 'Pf2', 'Pf3']\n",
    "citation_per_domain = data.groupby(domain_column)[citation_columns].mean()\n",
    "\n",
    "# Combine the results into a single DataFrame for comparison\n",
    "comparison_df = pd.DataFrame({\n",
    "    'Average Wikipedia Usage': wikipedia_usage_per_domain.mean(axis=1),\n",
    "    'Average Citation': citation_per_domain.mean(axis=1)\n",
    "})\n",
    "\n",
    "comparison_df = comparison_df.sort_values(by='Average Wikipedia Usage', ascending=False)\n",
    "comparison_df"
   ]
  },
  {
   "cell_type": "code",
   "execution_count": null,
   "id": "76b34e08",
   "metadata": {},
   "outputs": [],
   "source": [
    "# Check the data types of the relevant columns\n",
    "data[wikipedia_usage_columns + citation_columns].dtypes"
   ]
  },
  {
   "cell_type": "code",
   "execution_count": null,
   "id": "72ffc720",
   "metadata": {},
   "outputs": [],
   "source": [
    "# Redefine the relevant columns for Wikipedia usage and citations\n",
    "wikipedia_usage_columns = ['Use1', 'Use2', 'Use3', 'Use4', 'Use5']\n",
    "citation_columns = ['Pf1', 'Pf2', 'Pf3']\n",
    "\n",
    "# Check the data types of the relevant columns\n",
    "data[wikipedia_usage_columns + citation_columns].dtypes"
   ]
  },
  {
   "cell_type": "code",
   "execution_count": null,
   "id": "0e4388b6",
   "metadata": {},
   "outputs": [],
   "source": [
    "# Convert the relevant columns to numeric, coercing errors to NaN\n",
    "data[wikipedia_usage_columns] = data[wikipedia_usage_columns].apply(pd.to_numeric, errors='coerce')\n",
    "data[citation_columns] = data[citation_columns].apply(pd.to_numeric, errors='coerce')\n",
    "\n",
    "# Calculate the average Wikipedia usage per domain\n",
    "wikipedia_usage_per_domain = data.groupby(domain_column)[wikipedia_usage_columns].mean()\n",
    "\n",
    "# Calculate the average citation of Wikipedia in academic papers\n",
    "citation_per_domain = data.groupby(domain_column)[citation_columns].mean()\n",
    "\n",
    "# Combine the results into a single DataFrame for comparison\n",
    "comparison_df = pd.DataFrame({\n",
    "    'Average Wikipedia Usage': wikipedia_usage_per_domain.mean(axis=1),\n",
    "    'Average Citation': citation_per_domain.mean(axis=1)\n",
    "})\n",
    "\n",
    "comparison_df = comparison_df.sort_values(by='Average Wikipedia Usage', ascending=False)\n",
    "comparison_df"
   ]
  }
 ],
 "metadata": {},
 "nbformat": 4,
 "nbformat_minor": 5
}
