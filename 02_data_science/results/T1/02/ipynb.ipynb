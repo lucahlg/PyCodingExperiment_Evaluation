{
 "cells": [
  {
   "cell_type": "code",
   "execution_count": null,
   "id": "4917b8ef",
   "metadata": {},
   "outputs": [],
   "source": [
    "import pandas as pd\n",
    "\n",
    "# Load the data\n",
    "file_path = 'wiki4he/wiki4HE.csv'\n",
    "data = pd.read_csv(file_path)\n",
    "\n",
    "# Display the first few rows of the dataset\n",
    "data.head()"
   ]
  },
  {
   "cell_type": "code",
   "execution_count": null,
   "id": "7aa74d84",
   "metadata": {},
   "outputs": [],
   "source": [
    "# Load the data with the correct delimiter\n",
    "data = pd.read_csv(file_path, delimiter=';')\n",
    "\n",
    "# Display the first few rows of the dataset\n",
    "data.head()"
   ]
  },
  {
   "cell_type": "code",
   "execution_count": null,
   "id": "0a873b02",
   "metadata": {},
   "outputs": [],
   "source": [
    "import matplotlib.pyplot as plt\n",
    "import seaborn as sns\n",
    "\n",
    "# Set up the plotting environment\n",
    "sns.set(style=\"whitegrid\")\n",
    "\n",
    "# Age distribution\n",
    "plt.figure(figsize=(10, 6))\n",
    "sns.histplot(data['AGE'], bins=10, kde=True)\n",
    "plt.title('Age Distribution of Respondents')\n",
    "plt.xlabel('Age')\n",
    "plt.ylabel('Frequency')\n",
    "plt.show()\n",
    "\n",
    "# Years of experience distribution\n",
    "plt.figure(figsize=(10, 6))\n",
    "sns.histplot(data['YEARSEXP'], bins=10, kde=True)\n",
    "plt.title('Years of Experience Distribution of Respondents')\n",
    "plt.xlabel('Years of Experience')\n",
    "plt.ylabel('Frequency')\n",
    "plt.show()\n",
    "\n",
    "# Domain/Field of expertise distribution\n",
    "plt.figure(figsize=(10, 6))\n",
    "sns.countplot(y='DOMAIN', data=data, order=data['DOMAIN'].value_counts().index)\n",
    "plt.title('Domain/Field of Expertise Distribution of Respondents')\n",
    "plt.xlabel('Count')\n",
    "plt.ylabel('Domain')\n",
    "plt.show()\n",
    "\n",
    "# Job position distribution\n",
    "plt.figure(figsize=(10, 6))\n",
    "sns.countplot(y='UOC_POSITION', data=data, order=data['UOC_POSITION'].value_counts().index)\n",
    "plt.title('Job Position Distribution of Respondents')\n",
    "plt.xlabel('Count')\n",
    "plt.ylabel('Job Position')\n",
    "plt.show()"
   ]
  },
  {
   "cell_type": "code",
   "execution_count": null,
   "id": "07cd3687",
   "metadata": {},
   "outputs": [],
   "source": [
    "# Extract columns related to survey questions\n",
    "survey_columns = data.columns[10:]\n",
    "\n",
    "# Calculate the percentage of extreme responses (1 or 5) for each question\n",
    "extreme_responses = data[survey_columns].apply(lambda x: (x == 1).sum() + (x == 5).sum()) / len(data) * 100\n",
    "\n",
    "# Identify questions with a majority of extreme responses\n",
    "majority_extreme_responses = extreme_responses[extreme_responses > 50]\n",
    "\n",
    "majority_extreme_responses"
   ]
  },
  {
   "cell_type": "code",
   "execution_count": null,
   "id": "8464884b",
   "metadata": {},
   "outputs": [],
   "source": [
    "# Relevant columns for consulting Wikipedia and citing Wikipedia\n",
    "consult_wikipedia_col = 'USERWIKI'\n",
    "cite_wikipedia_cols = ['Qu1', 'Qu2', 'Qu3', 'Qu4', 'Qu5']\n",
    "\n",
    "# Calculate the average consultation of Wikipedia by domain\n",
    "consult_wikipedia_by_domain = data.groupby('DOMAIN')[consult_wikipedia_col].mean()\n",
    "\n",
    "# Calculate the average citation of Wikipedia by domain\n",
    "cite_wikipedia_by_domain = data.groupby('DOMAIN')[cite_wikipedia_cols].mean().mean(axis=1)\n",
    "\n",
    "consult_wikipedia_by_domain, cite_wikipedia_by_domain"
   ]
  },
  {
   "cell_type": "code",
   "execution_count": null,
   "id": "a1c94aec",
   "metadata": {},
   "outputs": [],
   "source": [
    "# Convert relevant columns to numeric, coercing errors to NaN\n",
    "data[consult_wikipedia_col] = pd.to_numeric(data[consult_wikipedia_col], errors='coerce')\n",
    "data[cite_wikipedia_cols] = data[cite_wikipedia_cols].apply(pd.to_numeric, errors='coerce')\n",
    "\n",
    "# Calculate the average consultation of Wikipedia by domain\n",
    "consult_wikipedia_by_domain = data.groupby('DOMAIN')[consult_wikipedia_col].mean()\n",
    "\n",
    "# Calculate the average citation of Wikipedia by domain\n",
    "cite_wikipedia_by_domain = data.groupby('DOMAIN')[cite_wikipedia_cols].mean().mean(axis=1)\n",
    "\n",
    "consult_wikipedia_by_domain, cite_wikipedia_by_domain"
   ]
  }
 ],
 "metadata": {},
 "nbformat": 4,
 "nbformat_minor": 5
}
