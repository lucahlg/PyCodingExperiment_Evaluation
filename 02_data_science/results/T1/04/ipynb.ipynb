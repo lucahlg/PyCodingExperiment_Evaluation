{
 "cells": [
  {
   "cell_type": "code",
   "execution_count": null,
   "id": "38e96bf4",
   "metadata": {},
   "outputs": [],
   "source": [
    "import pandas as pd\n",
    "\n",
    "# Load the data\n",
    "data_path = 'wiki4he/wiki4HE.csv'\n",
    "df = pd.read_csv(data_path)\n",
    "\n",
    "# Display the first few rows of the dataframe\n",
    "df.head()"
   ]
  },
  {
   "cell_type": "code",
   "execution_count": null,
   "id": "2e0044f8",
   "metadata": {},
   "outputs": [],
   "source": [
    "# Load the data with the correct delimiter\n",
    "df = pd.read_csv(data_path, delimiter=';')\n",
    "\n",
    "# Display the first few rows of the dataframe\n",
    "df.head()"
   ]
  },
  {
   "cell_type": "code",
   "execution_count": null,
   "id": "ce23d29f",
   "metadata": {},
   "outputs": [],
   "source": [
    "import matplotlib.pyplot as plt\n",
    "import seaborn as sns\n",
    "\n",
    "# Set up the plotting environment\n",
    "sns.set(style=\"whitegrid\")\n",
    "\n",
    "# Age distribution\n",
    "plt.figure(figsize=(10, 6))\n",
    "sns.histplot(df['AGE'], bins=10, kde=True)\n",
    "plt.title('Age Distribution of Respondents')\n",
    "plt.xlabel('Age')\n",
    "plt.ylabel('Frequency')\n",
    "plt.show()\n",
    "\n",
    "# Years of experience distribution\n",
    "plt.figure(figsize=(10, 6))\n",
    "sns.histplot(df['YEARSEXP'], bins=10, kde=True)\n",
    "plt.title('Years of Experience Distribution of Respondents')\n",
    "plt.xlabel('Years of Experience')\n",
    "plt.ylabel('Frequency')\n",
    "plt.show()\n",
    "\n",
    "# Domain/Field of expertise distribution\n",
    "plt.figure(figsize=(10, 6))\n",
    "sns.countplot(y='DOMAIN', data=df, order=df['DOMAIN'].value_counts().index)\n",
    "plt.title('Domain/Field of Expertise Distribution of Respondents')\n",
    "plt.xlabel('Count')\n",
    "plt.ylabel('Domain')\n",
    "plt.show()\n",
    "\n",
    "# Job position distribution\n",
    "plt.figure(figsize=(10, 6))\n",
    "sns.countplot(y='UOC_POSITION', data=df, order=df['UOC_POSITION'].value_counts().index)\n",
    "plt.title('Job Position Distribution of Respondents')\n",
    "plt.xlabel('Count')\n",
    "plt.ylabel('Job Position')\n",
    "plt.show()"
   ]
  },
  {
   "cell_type": "code",
   "execution_count": null,
   "id": "45d9bc9b",
   "metadata": {},
   "outputs": [],
   "source": [
    "# Extract the columns related to survey questions\n",
    "survey_columns = df.columns[10:]\n",
    "\n",
    "# Calculate the percentage of extreme responses (1 or 5) for each question\n",
    "extreme_responses = df[survey_columns].apply(lambda x: (x == 1).sum() + (x == 5).sum()) / len(df) * 100\n",
    "\n",
    "# Filter questions with a majority of extreme responses (more than 50%)\n",
    "majority_extreme_responses = extreme_responses[extreme_responses > 50]\n",
    "\n",
    "majority_extreme_responses"
   ]
  },
  {
   "cell_type": "code",
   "execution_count": null,
   "id": "315cce15",
   "metadata": {},
   "outputs": [],
   "source": [
    "# Calculate the mean response for consulting Wikipedia (USERWIKI) by domain\n",
    "consult_wiki_by_domain = df.groupby('DOMAIN')['USERWIKI'].mean()\n",
    "\n",
    "# Calculate the mean response for citing Wikipedia in academic papers (Qu5) by domain\n",
    "cite_wiki_by_domain = df.groupby('DOMAIN')['Qu5'].mean()\n",
    "\n",
    "consult_wiki_by_domain, cite_wiki_by_domain"
   ]
  },
  {
   "cell_type": "code",
   "execution_count": null,
   "id": "155c3620",
   "metadata": {},
   "outputs": [],
   "source": [
    "# Inspect the data types of the columns\n",
    "df[['USERWIKI', 'Qu5']].dtypes"
   ]
  },
  {
   "cell_type": "code",
   "execution_count": null,
   "id": "3908861e",
   "metadata": {},
   "outputs": [],
   "source": [
    "# Convert USERWIKI and Qu5 columns to numeric values\n",
    "df['USERWIKI'] = pd.to_numeric(df['USERWIKI'], errors='coerce')\n",
    "df['Qu5'] = pd.to_numeric(df['Qu5'], errors='coerce')\n",
    "\n",
    "# Calculate the mean response for consulting Wikipedia (USERWIKI) by domain\n",
    "consult_wiki_by_domain = df.groupby('DOMAIN')['USERWIKI'].mean()\n",
    "\n",
    "# Calculate the mean response for citing Wikipedia in academic papers (Qu5) by domain\n",
    "cite_wiki_by_domain = df.groupby('DOMAIN')['Qu5'].mean()\n",
    "\n",
    "consult_wiki_by_domain, cite_wiki_by_domain"
   ]
  }
 ],
 "metadata": {},
 "nbformat": 4,
 "nbformat_minor": 5
}
