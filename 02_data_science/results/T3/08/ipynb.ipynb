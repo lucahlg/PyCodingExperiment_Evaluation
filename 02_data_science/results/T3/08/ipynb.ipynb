{
 "cells": [
  {
   "cell_type": "code",
   "execution_count": null,
   "id": "6a77a38e",
   "metadata": {},
   "outputs": [],
   "source": [
    "import pandas as pd\n",
    "\n",
    "# Load the dataset\n",
    "file_path = 'Wholesale customers data.csv'\n",
    "data = pd.read_csv(file_path)\n",
    "\n",
    "# Drop the Region column\n",
    "data = data.drop(columns=['Region'])\n",
    "data.head()  # Display the first few rows of the modified dataset"
   ]
  },
  {
   "cell_type": "code",
   "execution_count": null,
   "id": "1dd96594",
   "metadata": {},
   "outputs": [],
   "source": [
    "# Filter the data for clients that are restaurants, hotels, and caf�s (Channel = 2)\n",
    "filtered_data = data[data['Channel'] == 2].drop(columns=['Channel'])\n",
    "filtered_data.head()  # Display the first few rows of the filtered dataset"
   ]
  },
  {
   "cell_type": "code",
   "execution_count": null,
   "id": "6d19ffaa",
   "metadata": {},
   "outputs": [],
   "source": [
    "# Normalize the data by computing the proportionate spending per product category\n",
    "normalized_data = filtered_data.div(filtered_data.sum(axis=1), axis=0)\n",
    "normalized_data.head()  # Display the first few rows of the normalized dataset"
   ]
  },
  {
   "cell_type": "code",
   "execution_count": null,
   "id": "ce2000f2",
   "metadata": {},
   "outputs": [],
   "source": [
    "from sklearn.preprocessing import StandardScaler\n",
    "\n",
    "# Standardize the normalized data\n",
    "scaler = StandardScaler()\n",
    "standardized_data = scaler.fit_transform(normalized_data)\n",
    "\n",
    "# Convert back to DataFrame for easier handling\n",
    "standardized_data_df = pd.DataFrame(standardized_data, columns=normalized_data.columns)\n",
    "standardized_data_df.head()  # Display the first few rows of the standardized dataset"
   ]
  },
  {
   "cell_type": "code",
   "execution_count": null,
   "id": "61cf33d3",
   "metadata": {},
   "outputs": [],
   "source": [
    "%pip install scikit-learn"
   ]
  },
  {
   "cell_type": "code",
   "execution_count": null,
   "id": "405eccee",
   "metadata": {},
   "outputs": [],
   "source": [
    "from sklearn.preprocessing import StandardScaler\n",
    "\n",
    "# Standardize the normalized data\n",
    "scaler = StandardScaler()\n",
    "standardized_data = scaler.fit_transform(normalized_data)\n",
    "\n",
    "# Convert back to DataFrame for easier handling\n",
    "standardized_data_df = pd.DataFrame(standardized_data, columns=normalized_data.columns)\n",
    "standardized_data_df.head()  # Display the first few rows of the standardized dataset"
   ]
  },
  {
   "cell_type": "code",
   "execution_count": null,
   "id": "c68f84f9",
   "metadata": {},
   "outputs": [],
   "source": [
    "from sklearn.cluster import KMeans\n",
    "\n",
    "# Perform K-means clustering with K=4\n",
    "kmeans = KMeans(n_clusters=4, random_state=42)\n",
    "clusters = kmeans.fit_predict(standardized_data)\n",
    "\n",
    "# Add the cluster labels to the standardized data\n",
    "standardized_data_df['Cluster'] = clusters\n",
    "standardized_data_df.head()  # Display the first few rows with cluster labels"
   ]
  },
  {
   "cell_type": "code",
   "execution_count": null,
   "id": "72dac312",
   "metadata": {},
   "outputs": [],
   "source": [
    "import matplotlib.pyplot as plt\n",
    "import seaborn as sns\n",
    "\n",
    "# Calculate the centroids\n",
    "centroids = kmeans.cluster_centers_\n",
    "\n",
    "# Create a DataFrame for centroids\n",
    "centroids_df = pd.DataFrame(centroids, columns=normalized_data.columns)\n",
    "\n",
    "# Plot the centroids\n",
    "plt.figure(figsize=(10, 6))\n",
    "sns.barplot(data=centroids_df)\n",
    "plt.title('Cluster Centroids')\n",
    "plt.xlabel('Product Categories')\n",
    "plt.ylabel('Standardized Spending')\n",
    "plt.xticks(rotation=45)\n",
    "plt.legend(title='Cluster', labels=[f'Cluster {i}' for i in range(centroids_df.shape[0])])\n",
    "plt.show()  # Display the plot"
   ]
  },
  {
   "cell_type": "code",
   "execution_count": null,
   "id": "ba7670f8",
   "metadata": {},
   "outputs": [],
   "source": [
    "# Create a summary description for each cluster based on the centroids\n",
    "cluster_descriptions = {}\n",
    "\n",
    "for i in range(centroids_df.shape[0]):\n",
    "    description = f\"Cluster {i}: \"\n",
    "    for column in centroids_df.columns:\n",
    "        spending = centroids_df.loc[i, column]\n",
    "        description += f\"{column} spending is {'high' if spending > 0 else 'low'}; \"\n",
    "    cluster_descriptions[i] = description.strip()\n",
    "\n",
    "cluster_descriptions  # Display the descriptions for each cluster"
   ]
  }
 ],
 "metadata": {},
 "nbformat": 4,
 "nbformat_minor": 5
}
