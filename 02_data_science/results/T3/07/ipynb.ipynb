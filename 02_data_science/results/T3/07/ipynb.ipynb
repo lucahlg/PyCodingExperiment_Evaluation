{
 "cells": [
  {
   "cell_type": "code",
   "execution_count": null,
   "id": "8044d101",
   "metadata": {},
   "outputs": [],
   "source": [
    "import pandas as pd\n",
    "import zipfile\n",
    "import requests\n",
    "import os\n",
    "\n",
    "# Download the dataset\n",
    "url = \"https://archive.ics.uci.edu/static/public/292/wholesale+customers.zip\"\n",
    "response = requests.get(url)\n",
    "\n",
    "# Save the zip file\n",
    "zip_file_path = \"wholesale_customers.zip\"\n",
    "with open(zip_file_path, \"wb\") as f:\n",
    "    f.write(response.content)\n",
    "\n",
    "# Extract the zip file\n",
    "with zipfile.ZipFile(zip_file_path, 'r') as zip_ref:\n",
    "    zip_ref.extractall(\".\")\n",
    "\n",
    "# Load the dataset into a DataFrame\n",
    "data = pd.read_csv(\"Wholesale customers data.csv\")\n",
    "\n",
    "# Drop the Region column\n",
    "data = data.drop(columns=[\"Region\"])\n",
    "data.head()"
   ]
  },
  {
   "cell_type": "code",
   "execution_count": null,
   "id": "769fe8d7",
   "metadata": {},
   "outputs": [],
   "source": [
    "# Filter the data for clients that are restaurants, hotels, and caf�s (Channel 2)\n",
    "filtered_data = data[data['Channel'] == 2]\n",
    "filtered_data.head()"
   ]
  },
  {
   "cell_type": "code",
   "execution_count": null,
   "id": "99eab7fc",
   "metadata": {},
   "outputs": [],
   "source": [
    "# Normalize the data by computing the proportionate spending per product category\n",
    "normalized_data = filtered_data.copy()\n",
    "normalized_data.iloc[:, 1:] = normalized_data.iloc[:, 1:].div(normalized_data.iloc[:, 1:].sum(axis=1), axis=0)\n",
    "\n",
    "normalized_data.head()"
   ]
  },
  {
   "cell_type": "code",
   "execution_count": null,
   "id": "585826b9",
   "metadata": {},
   "outputs": [],
   "source": [
    "from sklearn.preprocessing import StandardScaler\n",
    "\n",
    "# Standardize the data\n",
    "scaler = StandardScaler()\n",
    "standardized_data = normalized_data.copy()\n",
    "standardized_data.iloc[:, 1:] = scaler.fit_transform(normalized_data.iloc[:, 1:])\n",
    "\n",
    "standardized_data.head()"
   ]
  },
  {
   "cell_type": "code",
   "execution_count": null,
   "id": "e753ea4f",
   "metadata": {},
   "outputs": [],
   "source": [
    "%pip install scikit-learn"
   ]
  },
  {
   "cell_type": "code",
   "execution_count": null,
   "id": "f788f2ac",
   "metadata": {},
   "outputs": [],
   "source": [
    "# Standardize the data\n",
    "scaler = StandardScaler()\n",
    "standardized_data.iloc[:, 1:] = scaler.fit_transform(normalized_data.iloc[:, 1:])\n",
    "\n",
    "standardized_data.head()"
   ]
  },
  {
   "cell_type": "code",
   "execution_count": null,
   "id": "279bafad",
   "metadata": {},
   "outputs": [],
   "source": [
    "import pandas as pd\n",
    "from sklearn.preprocessing import StandardScaler\n",
    "\n",
    "# Re-load the filtered and normalized data\n",
    "data = pd.read_csv(\"Wholesale customers data.csv\")\n",
    "filtered_data = data[data['Channel'] == 2]\n",
    "normalized_data = filtered_data.copy()\n",
    "normalized_data.iloc[:, 1:] = normalized_data.iloc[:, 1:].div(normalized_data.iloc[:, 1:].sum(axis=1), axis=0)\n",
    "\n",
    "# Standardize the data\n",
    "scaler = StandardScaler()\n",
    "standardized_data = normalized_data.copy()\n",
    "standardized_data.iloc[:, 1:] = scaler.fit_transform(normalized_data.iloc[:, 1:])\n",
    "\n",
    "standardized_data.head()"
   ]
  },
  {
   "cell_type": "code",
   "execution_count": null,
   "id": "2580a9fa",
   "metadata": {},
   "outputs": [],
   "source": [
    "from sklearn.cluster import KMeans\n",
    "\n",
    "# Perform K-means clustering\n",
    "kmeans = KMeans(n_clusters=4, random_state=42)\n",
    "standardized_data['Cluster'] = kmeans.fit_predict(standardized_data.iloc[:, 1:])\n",
    "\n",
    "standardized_data.head()"
   ]
  },
  {
   "cell_type": "code",
   "execution_count": null,
   "id": "75a9dc8b",
   "metadata": {},
   "outputs": [],
   "source": [
    "import matplotlib.pyplot as plt\n",
    "\n",
    "# Get the cluster centroids\n",
    "centroids = kmeans.cluster_centers_\n",
    "\n",
    "# Create a DataFrame for centroids\n",
    "centroids_df = pd.DataFrame(centroids, columns=standardized_data.columns[1:-1])\n",
    "centroids_df.index = [f'Cluster {i}' for i in range(centroids_df.shape[0])]\n",
    "\n",
    "# Plot the centroids\n",
    "centroids_df.plot(kind='bar', figsize=(12, 6))\n",
    "plt.title('Cluster Centroids')\n",
    "plt.ylabel('Standardized Spending')\n",
    "plt.xlabel('Clusters')\n",
    "plt.xticks(rotation=0)\n",
    "plt.legend(title='Product Categories')\n",
    "plt.show()"
   ]
  },
  {
   "cell_type": "code",
   "execution_count": null,
   "id": "941da81f",
   "metadata": {},
   "outputs": [],
   "source": [
    "# Analyze the spending patterns for each cluster\n",
    "cluster_descriptions = standardized_data.groupby('Cluster').mean()\n",
    "\n",
    "cluster_descriptions"
   ]
  }
 ],
 "metadata": {},
 "nbformat": 4,
 "nbformat_minor": 5
}
