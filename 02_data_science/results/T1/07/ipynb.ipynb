{
 "cells": [
  {
   "cell_type": "code",
   "execution_count": null,
   "id": "ee8daf77",
   "metadata": {},
   "outputs": [],
   "source": [
    "%pip install pandas matplotlib seaborn"
   ]
  },
  {
   "cell_type": "code",
   "execution_count": null,
   "id": "37477087",
   "metadata": {},
   "outputs": [],
   "source": [
    "import pandas as pd\n",
    "\n",
    "# Load the data\n",
    "data_path = 'wiki4he_data/wiki4HE.csv'\n",
    "data = pd.read_csv(data_path)\n",
    "\n",
    "# Display the first few rows of the dataset\n",
    "data.head()"
   ]
  },
  {
   "cell_type": "code",
   "execution_count": null,
   "id": "b29607b3",
   "metadata": {},
   "outputs": [],
   "source": [
    "# Load the data with the correct delimiter\n",
    "data = pd.read_csv(data_path, delimiter=';')\n",
    "\n",
    "# Display the first few rows of the dataset\n",
    "data.head()"
   ]
  },
  {
   "cell_type": "code",
   "execution_count": null,
   "id": "85c96368",
   "metadata": {},
   "outputs": [],
   "source": [
    "import matplotlib.pyplot as plt\n",
    "import seaborn as sns\n",
    "\n",
    "# Set the style for the plots\n",
    "sns.set(style=\"whitegrid\")\n",
    "\n",
    "# Overview of demographics\n",
    "demographics_summary = {\n",
    "    'Age': data['AGE'].describe(),\n",
    "    'Years of Experience': data['YEARSEXP'].describe(),\n",
    "    'Domain Count': data['DOMAIN'].value_counts(),\n",
    "    'Job Position Count': data['UOC_POSITION'].value_counts()\n",
    "}\n",
    "\n",
    "# Plotting Age Distribution\n",
    "plt.figure(figsize=(12, 6))\n",
    "sns.histplot(data['AGE'], bins=10, kde=True)\n",
    "plt.title('Age Distribution of Respondents')\n",
    "plt.xlabel('Age')\n",
    "plt.ylabel('Frequency')\n",
    "plt.grid()\n",
    "plt.show()\n",
    "\n",
    "# Plotting Years of Experience Distribution\n",
    "plt.figure(figsize=(12, 6))\n",
    "sns.histplot(data['YEARSEXP'], bins=10, kde=True)\n",
    "plt.title('Years of Experience Distribution of Respondents')\n",
    "plt.xlabel('Years of Experience')\n",
    "plt.ylabel('Frequency')\n",
    "plt.grid()\n",
    "plt.show()\n",
    "\n",
    "demographics_summary"
   ]
  },
  {
   "cell_type": "code",
   "execution_count": null,
   "id": "07beef86",
   "metadata": {},
   "outputs": [],
   "source": [
    "# Identify Likert scale response columns (assuming they start from 'PU1' to 'SA3' based on the dataset structure)\n",
    "likert_columns = [\n",
    "    'PU1', 'PU2', 'PU3', 'PEU1', 'PEU2', 'PEU3',\n",
    "    'ENJ1', 'ENJ2', 'Qu1', 'Qu2', 'Qu3', 'Qu4', 'Qu5',\n",
    "    'Vis1', 'Vis2', 'Vis3', 'Im1', 'Im2', 'Im3',\n",
    "    'SA1', 'SA2', 'SA3', 'Use1', 'Use2', 'Use3', 'Use4', 'Use5',\n",
    "    'Pf1', 'Pf2', 'Pf3', 'JR1', 'JR2', 'BI1', 'BI2',\n",
    "    'Inc1', 'Inc2', 'Inc3', 'Inc4', 'Exp1', 'Exp2', 'Exp3', 'Exp4', 'Exp5'\n",
    "]\n",
    "\n",
    "# Calculate the percentage of extreme responses (1 or 5) for each question\n",
    "extreme_responses = data[likert_columns].apply(lambda x: (x.isin([1, 5]).sum() / len(x)) * 100)\n",
    "\n",
    "# Filter questions with more than 50% extreme responses\n",
    "extreme_questions = extreme_responses[extreme_responses > 50]\n",
    "\n",
    "extreme_questions"
   ]
  },
  {
   "cell_type": "code",
   "execution_count": null,
   "id": "f1e8b5e2",
   "metadata": {},
   "outputs": [],
   "source": [
    "# Group by DOMAIN and calculate the percentage of users who consult Wikipedia\n",
    "domain_wiki_usage = data.groupby('DOMAIN')['USERWIKI'].value_counts(normalize=True).unstack().fillna(0) * 100\n",
    "\n",
    "# Extract the percentage of users who consult Wikipedia (USERWIKI = 1)\n",
    "domain_wiki_usage = domain_wiki_usage[1]\n",
    "\n",
    "# Plotting the results\n",
    "plt.figure(figsize=(12, 6))\n",
    "domain_wiki_usage.sort_values().plot(kind='barh', color='skyblue')\n",
    "plt.title('Percentage of Respondents Consulting Wikipedia by Domain')\n",
    "plt.xlabel('Percentage of Users Consulting Wikipedia')\n",
    "plt.ylabel('Domain')\n",
    "plt.grid(axis='x')\n",
    "plt.show()\n",
    "\n",
    "# Display the domain usage data\n",
    "domain_wiki_usage"
   ]
  },
  {
   "cell_type": "code",
   "execution_count": null,
   "id": "6ac5995b",
   "metadata": {},
   "outputs": [],
   "source": [
    "# Check the unique values in the USERWIKI column\n",
    "unique_userwiki_values = data['USERWIKI'].unique()\n",
    "unique_userwiki_values"
   ]
  },
  {
   "cell_type": "code",
   "execution_count": null,
   "id": "e27cbe0d",
   "metadata": {},
   "outputs": [],
   "source": [
    "# Convert USERWIKI to numeric, replacing '?' with NaN\n",
    "data['USERWIKI'] = pd.to_numeric(data['USERWIKI'], errors='coerce')\n",
    "\n",
    "# Group by DOMAIN and calculate the percentage of users who consult Wikipedia\n",
    "domain_wiki_usage = data.groupby('DOMAIN')['USERWIKI'].value_counts(normalize=True).unstack().fillna(0) * 100\n",
    "\n",
    "# Extract the percentage of users who consult Wikipedia (USERWIKI = 1)\n",
    "domain_wiki_usage = domain_wiki_usage[1]\n",
    "\n",
    "# Plotting the results\n",
    "plt.figure(figsize=(12, 6))\n",
    "domain_wiki_usage.sort_values().plot(kind='barh', color='skyblue')\n",
    "plt.title('Percentage of Respondents Consulting Wikipedia by Domain')\n",
    "plt.xlabel('Percentage of Users Consulting Wikipedia')\n",
    "plt.ylabel('Domain')\n",
    "plt.grid(axis='x')\n",
    "plt.show()\n",
    "\n",
    "# Display the domain usage data\n",
    "domain_wiki_usage"
   ]
  },
  {
   "cell_type": "code",
   "execution_count": null,
   "id": "3b0f1fa2",
   "metadata": {},
   "outputs": [],
   "source": [
    "# Search for columns related to citation practices in the dataset\n",
    "citation_columns = [col for col in data.columns if 'cite' in col.lower() or 'reference' in col.lower() or 'citation' in col.lower()]\n",
    "citation_columns"
   ]
  }
 ],
 "metadata": {},
 "nbformat": 4,
 "nbformat_minor": 5
}
