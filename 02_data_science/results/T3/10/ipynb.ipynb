{
 "cells": [
  {
   "cell_type": "code",
   "execution_count": null,
   "id": "4054607b",
   "metadata": {},
   "outputs": [],
   "source": [
    "import pandas as pd\n",
    "\n",
    "# Load the dataset\n",
    "file_path = './wholesale_customers/Wholesale customers data.csv'\n",
    "data = pd.read_csv(file_path)\n",
    "\n",
    "# Drop the Region column\n",
    "data = data.drop(columns=['Region'])\n",
    "\n",
    "# Display the first few rows of the modified DataFrame\n",
    "data.head()"
   ]
  },
  {
   "cell_type": "code",
   "execution_count": null,
   "id": "b54c097c",
   "metadata": {},
   "outputs": [],
   "source": [
    "# Filter the data for clients that are restaurants, hotels, and caf�s (Channel = 2)\n",
    "filtered_data = data[data['Channel'] == 2].reset_index(drop=True)\n",
    "\n",
    "# Display the first few rows of the filtered DataFrame\n",
    "filtered_data.head()"
   ]
  },
  {
   "cell_type": "code",
   "execution_count": null,
   "id": "9d175e1b",
   "metadata": {},
   "outputs": [],
   "source": [
    "# Normalize the data by computing the proportionate spending per product category\n",
    "normalized_data = filtered_data.copy()\n",
    "normalized_data.iloc[:, 1:] = normalized_data.iloc[:, 1:].div(normalized_data.iloc[:, 1:].sum(axis=1), axis=0)\n",
    "\n",
    "# Display the first few rows of the normalized DataFrame\n",
    "normalized_data.head()"
   ]
  },
  {
   "cell_type": "code",
   "execution_count": null,
   "id": "6b811028",
   "metadata": {},
   "outputs": [],
   "source": [
    "from sklearn.preprocessing import StandardScaler\n",
    "\n",
    "# Standardize the data\n",
    "scaler = StandardScaler()\n",
    "standardized_data = normalized_data.copy()\n",
    "standardized_data.iloc[:, 1:] = scaler.fit_transform(normalized_data.iloc[:, 1:])\n",
    "\n",
    "# Display the first few rows of the standardized DataFrame\n",
    "standardized_data.head()"
   ]
  },
  {
   "cell_type": "code",
   "execution_count": null,
   "id": "d2f2d90b",
   "metadata": {},
   "outputs": [],
   "source": [
    "%pip install scikit-learn"
   ]
  },
  {
   "cell_type": "code",
   "execution_count": null,
   "id": "c75409d5",
   "metadata": {},
   "outputs": [],
   "source": [
    "# Standardize the data\n",
    "scaler = StandardScaler()\n",
    "standardized_data = normalized_data.copy()\n",
    "standardized_data.iloc[:, 1:] = scaler.fit_transform(normalized_data.iloc[:, 1:])\n",
    "\n",
    "# Display the first few rows of the standardized DataFrame\n",
    "standardized_data.head()"
   ]
  },
  {
   "cell_type": "code",
   "execution_count": null,
   "id": "bbe0522b",
   "metadata": {},
   "outputs": [],
   "source": [
    "import pandas as pd\n",
    "from sklearn.preprocessing import StandardScaler\n",
    "\n",
    "# Re-load the dataset\n",
    "file_path = './wholesale_customers/Wholesale customers data.csv'\n",
    "data = pd.read_csv(file_path)\n",
    "\n",
    "# Drop the Region column\n",
    "data = data.drop(columns=['Region'])\n",
    "\n",
    "# Filter the data for clients that are restaurants, hotels, and caf�s (Channel = 2)\n",
    "filtered_data = data[data['Channel'] == 2].reset_index(drop=True)\n",
    "\n",
    "# Normalize the data\n",
    "normalized_data = filtered_data.copy()\n",
    "normalized_data.iloc[:, 1:] = normalized_data.iloc[:, 1:].div(normalized_data.iloc[:, 1:].sum(axis=1), axis=0)\n",
    "\n",
    "# Standardize the data\n",
    "scaler = StandardScaler()\n",
    "standardized_data = normalized_data.copy()\n",
    "standardized_data.iloc[:, 1:] = scaler.fit_transform(normalized_data.iloc[:, 1:])\n",
    "\n",
    "# Display the first few rows of the standardized DataFrame\n",
    "standardized_data.head()"
   ]
  },
  {
   "cell_type": "code",
   "execution_count": null,
   "id": "41be7cf5",
   "metadata": {},
   "outputs": [],
   "source": [
    "from sklearn.cluster import KMeans\n",
    "\n",
    "# Perform K-means clustering\n",
    "kmeans = KMeans(n_clusters=4, random_state=42)\n",
    "standardized_data['Cluster'] = kmeans.fit_predict(standardized_data.iloc[:, 1:])\n",
    "\n",
    "# Display the first few rows of the DataFrame with cluster assignments\n",
    "standardized_data.head()"
   ]
  },
  {
   "cell_type": "code",
   "execution_count": null,
   "id": "c3071fff",
   "metadata": {},
   "outputs": [],
   "source": [
    "import matplotlib.pyplot as plt\n",
    "import numpy as np\n",
    "\n",
    "# Get the cluster centroids\n",
    "centroids = kmeans.cluster_centers_\n",
    "\n",
    "# Create a DataFrame for centroids\n",
    "centroids_df = pd.DataFrame(centroids, columns=standardized_data.columns[1:-1])\n",
    "\n",
    "# Plot the centroids\n",
    "plt.figure(figsize=(10, 6))\n",
    "for i, column in enumerate(centroids_df.columns):\n",
    "    plt.plot(np.arange(centroids_df.shape[0]), centroids_df[column], marker='o', label=column)\n",
    "\n",
    "plt.title('Cluster Centroids')\n",
    "plt.xlabel('Cluster')\n",
    "plt.ylabel('Standardized Spending')\n",
    "plt.xticks(np.arange(centroids_df.shape[0]), ['Cluster 0', 'Cluster 1', 'Cluster 2', 'Cluster 3'])\n",
    "plt.legend()\n",
    "plt.grid()\n",
    "plt.show()\n",
    "\n",
    "# Display the centroids DataFrame\n",
    "centroids_df"
   ]
  },
  {
   "cell_type": "code",
   "execution_count": null,
   "id": "837b0fca",
   "metadata": {},
   "outputs": [],
   "source": [
    "# Create descriptions based on the centroids\n",
    "descriptions = []\n",
    "for index, row in centroids_df.iterrows():\n",
    "    description = f\"Cluster {index}: \"\n",
    "    if row['Fresh'] > 0:\n",
    "        description += \"High spending on Fresh. \"\n",
    "    else:\n",
    "        description += \"Low spending on Fresh. \"\n",
    "    \n",
    "    if row['Milk'] > 0:\n",
    "        description += \"High spending on Milk. \"\n",
    "    else:\n",
    "        description += \"Low spending on Milk. \"\n",
    "    \n",
    "    if row['Grocery'] > 0:\n",
    "        description += \"High spending on Grocery. \"\n",
    "    else:\n",
    "        description += \"Low spending on Grocery. \"\n",
    "    \n",
    "    if row['Frozen'] > 0:\n",
    "        description += \"High spending on Frozen. \"\n",
    "    else:\n",
    "        description += \"Low spending on Frozen. \"\n",
    "    \n",
    "    if row['Detergents_Paper'] > 0:\n",
    "        description += \"High spending on Detergents and Paper. \"\n",
    "    else:\n",
    "        description += \"Low spending on Detergents and Paper. \"\n",
    "    \n",
    "    if row['Delicassen'] > 0:\n",
    "        description += \"High spending on Delicassen.\"\n",
    "    else:\n",
    "        description += \"Low spending on Delicassen.\"\n",
    "    \n",
    "    descriptions.append(description)\n",
    "\n",
    "descriptions"
   ]
  }
 ],
 "metadata": {},
 "nbformat": 4,
 "nbformat_minor": 5
}
