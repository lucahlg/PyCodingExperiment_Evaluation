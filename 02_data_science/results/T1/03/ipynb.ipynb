{
 "cells": [
  {
   "cell_type": "code",
   "execution_count": null,
   "id": "6b19d4ac",
   "metadata": {},
   "outputs": [],
   "source": [
    "%pip install pandas matplotlib seaborn"
   ]
  },
  {
   "cell_type": "code",
   "execution_count": null,
   "id": "2c74f27b",
   "metadata": {},
   "outputs": [],
   "source": [
    "import pandas as pd\n",
    "\n",
    "# Load the data\n",
    "data_path = 'wiki4he/wiki4HE.csv'\n",
    "df = pd.read_csv(data_path)\n",
    "\n",
    "# Display the first few rows of the DataFrame\n",
    "df.head()"
   ]
  },
  {
   "cell_type": "code",
   "execution_count": null,
   "id": "996ce563",
   "metadata": {},
   "outputs": [],
   "source": [
    "# Load the data with the correct delimiter\n",
    "df = pd.read_csv(data_path, delimiter=';')\n",
    "\n",
    "# Display the first few rows of the DataFrame\n",
    "df.head()"
   ]
  },
  {
   "cell_type": "code",
   "execution_count": null,
   "id": "675e530c",
   "metadata": {},
   "outputs": [],
   "source": [
    "import matplotlib.pyplot as plt\n",
    "import seaborn as sns\n",
    "\n",
    "# Set the style for the plots\n",
    "sns.set(style=\"whitegrid\")\n",
    "\n",
    "# Plot the distribution of age\n",
    "plt.figure(figsize=(10, 6))\n",
    "sns.histplot(df['AGE'], bins=10, kde=True)\n",
    "plt.title('Distribution of Age')\n",
    "plt.xlabel('Age')\n",
    "plt.ylabel('Frequency')\n",
    "plt.show()\n",
    "\n",
    "# Plot the distribution of years of experience\n",
    "plt.figure(figsize=(10, 6))\n",
    "sns.histplot(df['YEARSEXP'], bins=10, kde=True)\n",
    "plt.title('Distribution of Years of Experience')\n",
    "plt.xlabel('Years of Experience')\n",
    "plt.ylabel('Frequency')\n",
    "plt.show()\n",
    "\n",
    "# Plot the distribution of domain/field of expertise\n",
    "plt.figure(figsize=(10, 6))\n",
    "sns.countplot(x='DOMAIN', data=df)\n",
    "plt.title('Distribution of Domain/Field of Expertise')\n",
    "plt.xlabel('Domain')\n",
    "plt.ylabel('Frequency')\n",
    "plt.show()\n",
    "\n",
    "# Plot the distribution of job position\n",
    "plt.figure(figsize=(10, 6))\n",
    "sns.countplot(x='UOC_POSITION', data=df)\n",
    "plt.title('Distribution of Job Position')\n",
    "plt.xlabel('Job Position')\n",
    "plt.ylabel('Frequency')\n",
    "plt.show()"
   ]
  },
  {
   "cell_type": "code",
   "execution_count": null,
   "id": "0048aac3",
   "metadata": {},
   "outputs": [],
   "source": [
    "# Extract the columns related to survey questions\n",
    "survey_columns = df.columns[10:]\n",
    "\n",
    "# Calculate the percentage of extreme responses (1 or 5) for each question\n",
    "extreme_responses = df[survey_columns].apply(lambda x: (x == 1).sum() + (x == 5).sum()) / len(df) * 100\n",
    "\n",
    "# Identify the questions with a majority of extreme responses (more than 50%)\n",
    "extreme_responses_majority = extreme_responses[extreme_responses > 50]\n",
    "\n",
    "extreme_responses_majority"
   ]
  },
  {
   "cell_type": "code",
   "execution_count": null,
   "id": "60eb12e7",
   "metadata": {},
   "outputs": [],
   "source": [
    "# Extract relevant columns for consulting and citing Wikipedia\n",
    "consult_wiki_columns = ['Use1', 'Use2', 'Use3', 'Use4', 'Use5']\n",
    "cite_wiki_columns = ['Qu1', 'Qu2', 'Qu3', 'Qu4', 'Qu5']\n",
    "\n",
    "# Calculate the mean response for consulting Wikipedia for each domain\n",
    "consult_wiki_mean = df.groupby('DOMAIN')[consult_wiki_columns].mean().mean(axis=1)\n",
    "\n",
    "# Calculate the mean response for citing Wikipedia for each domain\n",
    "cite_wiki_mean = df.groupby('DOMAIN')[cite_wiki_columns].mean().mean(axis=1)\n",
    "\n",
    "# Combine the results into a single DataFrame\n",
    "wiki_usage = pd.DataFrame({\n",
    "    'Consult Wikipedia': consult_wiki_mean,\n",
    "    'Cite Wikipedia': cite_wiki_mean\n",
    "}).reset_index()\n",
    "\n",
    "wiki_usage"
   ]
  },
  {
   "cell_type": "code",
   "execution_count": null,
   "id": "9b9c2bea",
   "metadata": {},
   "outputs": [],
   "source": [
    "# Convert relevant columns to numeric, coercing errors to NaN\n",
    "df[consult_wiki_columns + cite_wiki_columns] = df[consult_wiki_columns + cite_wiki_columns].apply(pd.to_numeric, errors='coerce')\n",
    "\n",
    "# Calculate the mean response for consulting Wikipedia for each domain\n",
    "consult_wiki_mean = df.groupby('DOMAIN')[consult_wiki_columns].mean().mean(axis=1)\n",
    "\n",
    "# Calculate the mean response for citing Wikipedia for each domain\n",
    "cite_wiki_mean = df.groupby('DOMAIN')[cite_wiki_columns].mean().mean(axis=1)\n",
    "\n",
    "# Combine the results into a single DataFrame\n",
    "wiki_usage = pd.DataFrame({\n",
    "    'Consult Wikipedia': consult_wiki_mean,\n",
    "    'Cite Wikipedia': cite_wiki_mean\n",
    "}).reset_index()\n",
    "\n",
    "wiki_usage"
   ]
  },
  {
   "cell_type": "code",
   "execution_count": null,
   "id": "ab6af753",
   "metadata": {},
   "outputs": [],
   "source": [
    "# Plot the mean responses for consulting and citing Wikipedia for each domain\n",
    "plt.figure(figsize=(12, 6))\n",
    "sns.barplot(x='DOMAIN', y='Consult Wikipedia', data=wiki_usage, color='blue', label='Consult Wikipedia')\n",
    "sns.barplot(x='DOMAIN', y='Cite Wikipedia', data=wiki_usage, color='red', label='Cite Wikipedia', alpha=0.6)\n",
    "plt.title('Consulting and Citing Wikipedia by Domain')\n",
    "plt.xlabel('Domain')\n",
    "plt.ylabel('Mean Response')\n",
    "plt.legend()\n",
    "plt.show()"
   ]
  }
 ],
 "metadata": {},
 "nbformat": 4,
 "nbformat_minor": 5
}
